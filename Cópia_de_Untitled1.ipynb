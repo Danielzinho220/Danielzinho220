{
  "nbformat": 4,
  "nbformat_minor": 0,
  "metadata": {
    "colab": {
      "provenance": [],
      "authorship_tag": "ABX9TyOdqF1s/eR0qTwuWzm1GGnX",
      "include_colab_link": true
    },
    "kernelspec": {
      "name": "python3",
      "display_name": "Python 3"
    },
    "language_info": {
      "name": "python"
    }
  },
  "cells": [
    {
      "cell_type": "markdown",
      "metadata": {
        "id": "view-in-github",
        "colab_type": "text"
      },
      "source": [
        "<a href=\"https://colab.research.google.com/github/Danielzinho220/Danielzinho220/blob/main/C%C3%B3pia_de_Untitled1.ipynb\" target=\"_parent\"><img src=\"https://colab.research.google.com/assets/colab-badge.svg\" alt=\"Open In Colab\"/></a>"
      ]
    },
    {
      "cell_type": "code",
      "execution_count": null,
      "metadata": {
        "id": "lCzfE_OE34Vk"
      },
      "outputs": [],
      "source": []
    },
    {
      "cell_type": "code",
      "source": [
        "import sqlite3\n",
        "\n",
        "# Conectar ao banco de dados (se não existir, ele será criado)\n",
        "conn = sqlite3.connect('escola.db')\n",
        "\n",
        "# Criar um cursor para executar comandos SQL\n",
        "cursor = conn.cursor()"
      ],
      "metadata": {
        "id": "DF7W6a0t344f"
      },
      "execution_count": null,
      "outputs": []
    },
    {
      "cell_type": "code",
      "source": [
        "# Criar a tabela aluno\n",
        "cursor.execute('''CREATE TABLE aluno (\n",
        "                    id INTEGER PRIMARY KEY AUTOINCREMENT,\n",
        "                    nome TEXT NOT NULL,\n",
        "                    idade INTEGER,\n",
        "                    curso_id INTEGER,\n",
        "                    FOREIGN KEY(curso_id) REFERENCES curso(id)\n",
        "                )''')\n",
        "\n",
        "# Criar a tabela curso\n",
        "cursor.execute('''CREATE TABLE curso (\n",
        "                    id INTEGER PRIMARY KEY AUTOINCREMENT,\n",
        "                    nome TEXT NOT NULL\n",
        "                )''')\n",
        "\n",
        "# Criar a tabela disciplina\n",
        "cursor.execute('''CREATE TABLE disciplina (\n",
        "                    id INTEGER PRIMARY KEY AUTOINCREMENT,\n",
        "                    nome TEXT NOT NULL,\n",
        "                    curso_id INTEGER,\n",
        "                    FOREIGN KEY(curso_id) REFERENCES curso(id)\n",
        "                )''')\n",
        "\n",
        "# Commit para salvar as alterações\n",
        "conn.commit()"
      ],
      "metadata": {
        "id": "-c3KP1Io4GAN"
      },
      "execution_count": null,
      "outputs": []
    },
    {
      "cell_type": "code",
      "source": [
        "# Inserir dados na tabela curso\n",
        "cursor.execute(\"INSERT INTO curso (nome) VALUES ('Ciência da Computação')\")\n",
        "cursor.execute(\"INSERT INTO curso (nome) VALUES ('Engenharia Elétrica')\")\n",
        "cursor.execute(\"INSERT INTO curso (nome) VALUES ('Matemática')\")\n",
        "\n",
        "# Inserir dados na tabela disciplina\n",
        "cursor.execute(\"INSERT INTO disciplina (nome, curso_id) VALUES ('Algoritmos', 1)\")\n",
        "cursor.execute(\"INSERT INTO disciplina (nome, curso_id) VALUES ('Circuitos Elétricos', 2)\")\n",
        "\n",
        "# Commit para salvar as alterações\n",
        "conn.commit()"
      ],
      "metadata": {
        "id": "Mni498we4Ix-"
      },
      "execution_count": null,
      "outputs": []
    },
    {
      "cell_type": "code",
      "source": [
        "# Consultar todos os cursos\n",
        "cursor.execute(\"SELECT * FROM curso\")\n",
        "cursos = cursor.fetchall()\n",
        "print(\"Cursos:\")\n",
        "for curso in cursos:\n",
        "    print(curso)\n",
        "\n",
        "# Consultar todas as disciplinas do curso de Ciência da Computação\n",
        "cursor.execute(\"SELECT * FROM disciplina WHERE curso_id = 1\")\n",
        "disciplinas = cursor.fetchall()\n",
        "print(\"\\nDisciplinas de Ciência da Computação:\")\n",
        "for disciplina in disciplinas:\n",
        "    print(disciplina)\n",
        "\n",
        "# Consultar alunos e seus cursos\n",
        "cursor.execute(\"SELECT aluno.nome, curso.nome FROM aluno INNER JOIN curso ON aluno.curso_id = curso.id\")\n",
        "alunos = cursor.fetchall()\n",
        "print(\"\\nAlunos e seus cursos:\")\n",
        "for aluno in alunos:\n",
        "    print(aluno)"
      ],
      "metadata": {
        "id": "1DfGtmRN4TyF",
        "outputId": "ff804cea-3b74-4833-93f5-68c1ee8fad57",
        "colab": {
          "base_uri": "https://localhost:8080/"
        }
      },
      "execution_count": null,
      "outputs": [
        {
          "output_type": "stream",
          "name": "stdout",
          "text": [
            "Cursos:\n",
            "(1, 'Ciência da Computação')\n",
            "(2, 'Engenharia Elétrica')\n",
            "(3, 'Matemática')\n",
            "\n",
            "Disciplinas de Ciência da Computação:\n",
            "(1, 'Algoritmos', 1)\n",
            "\n",
            "Alunos e seus cursos:\n"
          ]
        }
      ]
    }
  ]
}